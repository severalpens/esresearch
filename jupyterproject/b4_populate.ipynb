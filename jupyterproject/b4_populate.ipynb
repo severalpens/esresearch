{
 "cells": [
  {
   "cell_type": "markdown",
   "metadata": {},
   "source": [
    "# Populate"
   ]
  },
  {
   "cell_type": "code",
   "execution_count": 1,
   "metadata": {},
   "outputs": [
    {
     "name": "stdout",
     "output_type": "stream",
     "text": [
      "Inserted 249 FAQs into Elasticsearch.\n",
      "\n",
      "Sample Document:\n",
      "{'Question': 'What is financial difficulty?', 'Answer': 'Put simply, financial difficulty is when you can’t pay your bills. It can happen as a result of a job loss, illness, family break ups, natural disasters like droughts or floods and many other reasons.If you can’t make Suncorp Bank loan repayments or meet other financial commitments – or you think you’ll be experiencing difficulty soon – we’re here to help.Please contact us on1800 225 223(8:30am-5pm, Mon-Fri, AEST) orfind out how to submit a request for assistance. Our Customer Assist team can help you get the support you need.Support for individualsSupport for businessesFor more information about financial difficulty, you can also visit the Australian Banking Association’sFinancial Assistance Hub.**Our site may contain links or references to other websites (including other social media websites) or applications which are independently owned or operated by third parties (\"Third Party Sites\"). We are not responsible or liable for the content of Third Party Sites. Your access to and use of those sites is at your own risk and may be subject to separate terms and information handling practices. Any links are provided for convenience only, and do not indicate any sponsorship, endorsement or recommendation by us.'}\n"
     ]
    }
   ],
   "source": [
    "import json\n",
    "import os\n",
    "from dotenv import load_dotenv\n",
    "from elasticsearch import Elasticsearch\n",
    "\n",
    "load_dotenv()\n",
    "elastic_password = os.getenv(\"ELASTIC_PASSWORD\")\n",
    "index_name = \"faqs\"\n",
    "\n",
    "es  = Elasticsearch(\n",
    "  \"https://7441222d1c12456cae009f0c5f878e45.westus2.azure.elastic-cloud.com:443\",\n",
    "  api_key=\"eFFVMTFKUUJSa3k2ZlUzemo3R2c6d2twNzRVU2FUMzZxdFRmNEY1N3NlQQ==\"\n",
    ")\n",
    "\n",
    "mapping = {\n",
    "    \"mappings\": {\n",
    "        \"properties\": {\n",
    "            \"Question\": {\n",
    "                \"type\": \"text\",\n",
    "                \"analyzer\": \"standard\"\n",
    "            },\n",
    "            \"Answer\": {\n",
    "                \"type\": \"text\",\n",
    "                \"analyzer\": \"standard\"\n",
    "            }\n",
    "        }\n",
    "    }\n",
    "}\n",
    "\n",
    "if not es.indices.exists(index=index_name):\n",
    "    es.indices.create(index=index_name)\n",
    "\n",
    "with open(\"general_faqs.json\", \"r\", encoding=\"utf-8\") as file:\n",
    "    faqs = json.load(file)\n",
    "\n",
    "for i, faq in enumerate(faqs):\n",
    "    es.index(index=index_name, id=i+1, body=faq)\n",
    "\n",
    "print(f\"Inserted {len(faqs)} FAQs into Elasticsearch.\")\n",
    "\n",
    "# Verify by retrieving one document\n",
    "doc = es.get(index=index_name, id=1)\n",
    "print(\"\\nSample Document:\")\n",
    "print(doc[\"_source\"])\n"
   ]
  }
 ],
 "metadata": {
  "kernelspec": {
   "display_name": "base",
   "language": "python",
   "name": "python3"
  },
  "language_info": {
   "codemirror_mode": {
    "name": "ipython",
    "version": 3
   },
   "file_extension": ".py",
   "mimetype": "text/x-python",
   "name": "python",
   "nbconvert_exporter": "python",
   "pygments_lexer": "ipython3",
   "version": "3.9.12"
  }
 },
 "nbformat": 4,
 "nbformat_minor": 2
}
