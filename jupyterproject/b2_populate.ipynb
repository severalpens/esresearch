{
 "cells": [
  {
   "cell_type": "markdown",
   "metadata": {},
   "source": [
    "Test Connection"
   ]
  },
  {
   "cell_type": "code",
   "execution_count": 4,
   "metadata": {},
   "outputs": [
    {
     "name": "stdout",
     "output_type": "stream",
     "text": [
      "Cluster Health:\n",
      "{'cluster_name': 'docker-cluster', 'status': 'green', 'timed_out': False, 'number_of_nodes': 1, 'number_of_data_nodes': 1, 'active_primary_shards': 33, 'active_shards': 33, 'relocating_shards': 0, 'initializing_shards': 0, 'unassigned_shards': 0, 'unassigned_primary_shards': 0, 'delayed_unassigned_shards': 0, 'number_of_pending_tasks': 0, 'number_of_in_flight_fetch': 0, 'task_max_waiting_in_queue_millis': 0, 'active_shards_percent_as_number': 100.0}\n"
     ]
    },
    {
     "name": "stderr",
     "output_type": "stream",
     "text": [
      "C:\\Users\\paulc\\AppData\\Local\\Temp\\ipykernel_39416\\429568990.py:13: DeprecationWarning: The 'http_auth' parameter is deprecated. Use 'basic_auth' or 'bearer_auth' parameters instead\n",
      "  es = Elasticsearch(\n"
     ]
    }
   ],
   "source": [
    "import os\n",
    "from dotenv import load_dotenv\n",
    "\n",
    "load_dotenv()\n",
    "elastic_password = os.getenv(\"ELASTIC_PASSWORD\")\n",
    "from elasticsearch import Elasticsearch\n",
    "\n",
    "es = Elasticsearch(\n",
    "    [\"http://127.0.0.1:9200\"],\n",
    "    http_auth=(\"elastic\", elastic_password)\n",
    ")\n",
    "\n",
    "response = es.cluster.health()\n",
    "print(\"Cluster Health:\")\n",
    "print(response)"
   ]
  },
  {
   "cell_type": "markdown",
   "metadata": {},
   "source": [
    "Populate"
   ]
  },
  {
   "cell_type": "code",
   "execution_count": 1,
   "metadata": {},
   "outputs": [
    {
     "name": "stderr",
     "output_type": "stream",
     "text": [
      "C:\\Users\\paulc\\AppData\\Local\\Temp\\ipykernel_51328\\4103639736.py:11: DeprecationWarning: The 'http_auth' parameter is deprecated. Use 'basic_auth' or 'bearer_auth' parameters instead\n",
      "  es = Elasticsearch(\n"
     ]
    },
    {
     "name": "stdout",
     "output_type": "stream",
     "text": [
      "Cluster Health: {'cluster_name': 'docker-cluster', 'status': 'green', 'timed_out': False, 'number_of_nodes': 1, 'number_of_data_nodes': 1, 'active_primary_shards': 33, 'active_shards': 33, 'relocating_shards': 0, 'initializing_shards': 0, 'unassigned_shards': 0, 'unassigned_primary_shards': 0, 'delayed_unassigned_shards': 0, 'number_of_pending_tasks': 0, 'number_of_in_flight_fetch': 0, 'task_max_waiting_in_queue_millis': 0, 'active_shards_percent_as_number': 100.0}\n",
      "Index 'faqs' created with mapping.\n",
      "Inserted 249 FAQs into Elasticsearch.\n",
      "\n",
      "Sample Document:\n",
      "{'Question': 'What is financial difficulty?', 'Answer': 'Put simply, financial difficulty is when you can’t pay your bills. It can happen as a result of a job loss, illness, family break ups, natural disasters like droughts or floods and many other reasons.If you can’t make Suncorp Bank loan repayments or meet other financial commitments – or you think you’ll be experiencing difficulty soon – we’re here to help.Please contact us on1800 225 223(8:30am-5pm, Mon-Fri, AEST) orfind out how to submit a request for assistance. Our Customer Assist team can help you get the support you need.Support for individualsSupport for businessesFor more information about financial difficulty, you can also visit the Australian Banking Association’sFinancial Assistance Hub.**Our site may contain links or references to other websites (including other social media websites) or applications which are independently owned or operated by third parties (\"Third Party Sites\"). We are not responsible or liable for the content of Third Party Sites. Your access to and use of those sites is at your own risk and may be subject to separate terms and information handling practices. Any links are provided for convenience only, and do not indicate any sponsorship, endorsement or recommendation by us.'}\n"
     ]
    }
   ],
   "source": [
    "import json\n",
    "import os\n",
    "from dotenv import load_dotenv\n",
    "from elasticsearch import Elasticsearch\n",
    "\n",
    "# Load environment variables\n",
    "load_dotenv()\n",
    "elastic_password = os.getenv(\"ELASTIC_PASSWORD\")\n",
    "\n",
    "# Connect to Elasticsearch\n",
    "es = Elasticsearch(\n",
    "    [\"http://127.0.0.1:9200\"],\n",
    "    http_auth=(\"elastic\", elastic_password)\n",
    ")\n",
    "\n",
    "# Check cluster health\n",
    "response = es.cluster.health()\n",
    "print(\"Cluster Health:\", response)\n",
    "\n",
    "# Define index name\n",
    "index_name = \"faqs\"\n",
    "\n",
    "# Define the mapping\n",
    "mapping = {\n",
    "    \"mappings\": {\n",
    "        \"properties\": {\n",
    "            \"Question\": {\n",
    "                \"type\": \"text\",\n",
    "                \"analyzer\": \"standard\"\n",
    "            },\n",
    "            \"Answer\": {\n",
    "                \"type\": \"text\",\n",
    "                \"analyzer\": \"standard\"\n",
    "            }\n",
    "        }\n",
    "    }\n",
    "}\n",
    "\n",
    "# Check if index exists, create if not\n",
    "if not es.indices.exists(index=index_name):\n",
    "    es.indices.create(index=index_name, body=mapping)\n",
    "    print(f\"Index '{index_name}' created with mapping.\")\n",
    "else:\n",
    "    print(f\"Index '{index_name}' already exists.\")\n",
    "\n",
    "\n",
    "# Load the JSON data\n",
    "with open(\"general_faqs.json\", \"r\", encoding=\"utf-8\") as file:\n",
    "    faqs = json.load(file)\n",
    "\n",
    "# Ensure index exists (create if not)\n",
    "if not es.indices.exists(index=index_name):\n",
    "    es.indices.create(index=index_name)\n",
    "\n",
    "# Insert documents into Elasticsearch\n",
    "for i, faq in enumerate(faqs):\n",
    "    es.index(index=index_name, id=i+1, body=faq)\n",
    "\n",
    "print(f\"Inserted {len(faqs)} FAQs into Elasticsearch.\")\n",
    "\n",
    "# Verify by retrieving one document\n",
    "doc = es.get(index=index_name, id=1)\n",
    "print(\"\\nSample Document:\")\n",
    "print(doc[\"_source\"])\n"
   ]
  }
 ],
 "metadata": {
  "kernelspec": {
   "display_name": "base",
   "language": "python",
   "name": "python3"
  },
  "language_info": {
   "codemirror_mode": {
    "name": "ipython",
    "version": 3
   },
   "file_extension": ".py",
   "mimetype": "text/x-python",
   "name": "python",
   "nbconvert_exporter": "python",
   "pygments_lexer": "ipython3",
   "version": "3.9.12"
  }
 },
 "nbformat": 4,
 "nbformat_minor": 2
}
