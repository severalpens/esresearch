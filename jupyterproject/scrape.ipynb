{
 "cells": [
  {
   "cell_type": "code",
   "execution_count": 23,
   "id": "26078e74-6a87-41e6-8eee-34609a7119c0",
   "metadata": {},
   "outputs": [],
   "source": [
    "import requests\n",
    "from bs4 import BeautifulSoup\n",
    "\n",
    "# URL of the FAQ page\n",
    "url = \"https://www.suncorpbank.com.au/help-support/faqs/using-our-services.html\"\n",
    "\n",
    "# Send a GET request to the URL\n",
    "response = requests.get(url)\n",
    "\n",
    "# Parse the HTML content of the page\n",
    "soup = BeautifulSoup(response.content, 'html.parser')\n",
    "\n",
    "# Find all href links that start with \"/help-support\"\n",
    "links = soup.find_all('a', href=True)\n",
    "help_support_links = [link['href'] for  link in links if link['href'].startswith('/help-support/faqs')]\n",
    "\n",
    "# append \"https://www.suncorpbank.com.au\" to the links\n",
    "help_support_links = ['https://www.suncorpbank.com.au' + link for link in help_support_links]\n",
    "\n",
    "\n",
    "# make the list distinct\n",
    "help_support_links = list(set(help_support_links))  \n",
    "\n",
    "# Write the links to a text file\n",
    "with open('help_support_links.txt', 'w') as file:\n",
    "    for link in help_support_links:\n",
    "        file.write(link + '\\n')"
   ]
  },
  {
   "cell_type": "code",
   "execution_count": 24,
   "id": "ef56a2e0-3db5-4005-8fe2-ed5b6215f81f",
   "metadata": {},
   "outputs": [],
   "source": [
    "for link in help_support_links:\n",
    "    # Send a GET request to the URL\n",
    "    response = requests.get(link)\n",
    "\n",
    "    # Parse the HTML content of the page\n",
    "    soup = BeautifulSoup(response.content, 'html.parser')\n",
    "\n",
    "    # Find all FAQ sections\n",
    "    faq_sections = soup.find_all('div', class_='sg-Accordion')\n",
    "\n",
    "    # Extract question and answer text\n",
    "    faqs = []\n",
    "    for section in faq_sections:\n",
    "        question_element = section.find('button', class_='sg-Accordion-label')\n",
    "        answer_element = section.find('div', class_='rte')\n",
    "        \n",
    "        if question_element and answer_element:\n",
    "            question = question_element.get_text(strip=True)\n",
    "            answer = answer_element.get_text(strip=True)\n",
    "            faqs.append((question, answer))\n",
    "\n",
    "    # Save the extracted FAQs to a text file\n",
    "    with open('general_faqs.txt', 'a') as file:\n",
    "        for question, answer in faqs:\n",
    "            file.write(f\"Question: {question}\\n\")\n",
    "            file.write(f\"Answer: {answer}\\n\\n\")\n",
    "\n"
   ]
  }
 ],
 "metadata": {
  "kernelspec": {
   "display_name": "base",
   "language": "python",
   "name": "python3"
  },
  "language_info": {
   "codemirror_mode": {
    "name": "ipython",
    "version": 3
   },
   "file_extension": ".py",
   "mimetype": "text/x-python",
   "name": "python",
   "nbconvert_exporter": "python",
   "pygments_lexer": "ipython3",
   "version": "3.9.12"
  }
 },
 "nbformat": 4,
 "nbformat_minor": 5
}
