{
 "cells": [
  {
   "cell_type": "markdown",
   "metadata": {},
   "source": [
    "# Query"
   ]
  },
  {
   "cell_type": "code",
   "execution_count": 3,
   "metadata": {},
   "outputs": [
    {
     "name": "stdout",
     "output_type": "stream",
     "text": [
      "{'took': 3, 'timed_out': False, '_shards': {'total': 1, 'successful': 1, 'skipped': 0, 'failed': 0}, 'hits': {'total': {'value': 249, 'relation': 'eq'}, 'max_score': 1.0, 'hits': [{'_index': 'faqs', '_id': '1', '_score': 1.0, '_source': {'Question': 'What is financial difficulty?', 'Answer': 'Put simply, financial difficulty is when you can’t pay your bills. It can happen as a result of a job loss, illness, family break ups, natural disasters like droughts or floods and many other reasons.If you can’t make Suncorp Bank loan repayments or meet other financial commitments – or you think you’ll be experiencing difficulty soon – we’re here to help.Please contact us on1800 225 223(8:30am-5pm, Mon-Fri, AEST) orfind out how to submit a request for assistance. Our Customer Assist team can help you get the support you need.Support for individualsSupport for businessesFor more information about financial difficulty, you can also visit the Australian Banking Association’sFinancial Assistance Hub.**Our site may contain links or references to other websites (including other social media websites) or applications which are independently owned or operated by third parties (\"Third Party Sites\"). We are not responsible or liable for the content of Third Party Sites. Your access to and use of those sites is at your own risk and may be subject to separate terms and information handling practices. Any links are provided for convenience only, and do not indicate any sponsorship, endorsement or recommendation by us.'}}, {'_index': 'faqs', '_id': '2', '_score': 1.0, '_source': {'Question': \"What should I do if I've missed a payment?\", 'Answer': 'If you’ve fallen behind on loan payments or any other Suncorp Bank financial commitments, pleasecontact us.We can help make sure you’re in the best position to stay on top of your payments.'}}, {'_index': 'faqs', '_id': '3', '_score': 1.0, '_source': {'Question': 'I think I’m in financial trouble. How can Suncorp Bank help?', 'Answer': 'Please contact us on1800 225 223(8:30am-5pm, Mon-Fri, AEST) orfind out how to submit a request for assistance. Our Customer Assist team can help you get the support you need.Whether you need temporary assistance or help over a longer period, the sooner you get in touch, the sooner we’ll be able work out a plan to help you get back on track.Support for individualsSupport for businesses'}}, {'_index': 'faqs', '_id': '4', '_score': 1.0, '_source': {'Question': 'I think I’m in financial trouble. Is independent financial counselling available?', 'Answer': \"Yes, there are free and confidential financial counselling services that provide advice to Australians in every state and territory.Find out more:National Debt Hotline websiteor call them on1800 007 007The Money Smart website of the Australian Securities & Investment Commission (ASIC)'Doing-It-Tough' by the Australian Banking AssociationLearn about other helpful resources\"}}, {'_index': 'faqs', '_id': '5', '_score': 1.0, '_source': {'Question': 'I want to submit a request for financial assistance. Can a financial counsellor act on my behalf?', 'Answer': \"Yes, if you provide us with written permission, we'll deal directly with your financial counsellor or authorised representative. They will act on your behalf, but if we are unable to contact your financial counsellor or it is otherwise necessary, we will of course still contact you directly.Learn aboutfinancial counselling and other helpful resources.\"}}, {'_index': 'faqs', '_id': '6', '_score': 1.0, '_source': {'Question': 'What kind of financial assistance might be available to me or my business from Suncorp Bank?', 'Answer': 'Depending on your situation, there are several ways we can help you, such as temporarily postponing loan repayments or extending the period of loan contracts. If you or your business aren’t able to make loan repayments or meet other financial commitments – or you think you’ll be experiencing difficulty soon – we can help you get the support you need.Find out more.'}}, {'_index': 'faqs', '_id': '7', '_score': 1.0, '_source': {'Question': 'I’ve requested financial assistance from Suncorp Bank. What happens next?', 'Answer': 'Because it takes time to understand each customer’s unique circumstances, once you have provided all the information we need, we may require up to 21 days to respond to your request. If we need further information, we will contact you. This could extend the review period by up to an additional 21 days after you have provided all the required information. If you cannot provide us with requested information, we’ll make our assessment based on the information we have. Rest assured, we’ll endeavour to respond to your request as soon as possible and while we’re considering your request, we won’t do anything to change the status of your loan.'}}, {'_index': 'faqs', '_id': '8', '_score': 1.0, '_source': {'Question': 'My circumstances have changed since making a financial assistance request. What should I do?', 'Answer': 'After submitting a request, please keep us informed of any changes to your personal or business circumstances. You can contact our Customer Assist team on1800 225 223(8:30am-5pm, Mon-Fri, AEST).'}}, {'_index': 'faqs', '_id': '9', '_score': 1.0, '_source': {'Question': 'What should I do if I don’t agree with the resolution of my request for financial assistance?', 'Answer': 'Please contact our Customer Assist team on 1800 225 223 (8:30am-5pm, Mon-Fri, AEST). We can discuss the decision and any further steps you may want to consider. If you’re dissatisfied with any aspect of your banking relationship with us, we want to know. You can submit a complaint to Suncorp Bank’s Customer Relations team as well as to the Australian Financial Complaints Authority.Find out how.'}}, {'_index': 'faqs', '_id': '10', '_score': 1.0, '_source': {'Question': \"I'm a guarantor to a loan. Can I make a financial difficulty request?\", 'Answer': 'Yes, as a loan guarantor you can request financial assistance. Our Customer Assist team can help you get the support you need.Find out more.'}}]}}\n"
     ]
    },
    {
     "name": "stderr",
     "output_type": "stream",
     "text": [
      "C:\\Users\\paulc\\AppData\\Local\\Temp\\ipykernel_30104\\3084602540.py:8: DeprecationWarning: The 'http_auth' parameter is deprecated. Use 'basic_auth' or 'bearer_auth' parameters instead\n",
      "  es = Elasticsearch(\n"
     ]
    }
   ],
   "source": [
    "import os\n",
    "from dotenv import load_dotenv\n",
    "\n",
    "load_dotenv()\n",
    "elastic_password = os.getenv(\"ELASTIC_PASSWORD\")\n",
    "from elasticsearch import Elasticsearch\n",
    "\n",
    "es = Elasticsearch(\n",
    "    [\"http://127.0.0.1:9200\"],\n",
    "    http_auth=(\"elastic\", elastic_password)\n",
    ")\n",
    "\n",
    "# query faqs index\n",
    "query = {\n",
    "    \"query\": {\n",
    "        \"match_all\": {}\n",
    "    }\n",
    "}\n",
    "\n",
    "res = es.search(index=\"faqs\", body=query)\n",
    " # pretty print the response body\n",
    "print(res)\n",
    "\n"
   ]
  }
 ],
 "metadata": {
  "kernelspec": {
   "display_name": "base",
   "language": "python",
   "name": "python3"
  },
  "language_info": {
   "codemirror_mode": {
    "name": "ipython",
    "version": 3
   },
   "file_extension": ".py",
   "mimetype": "text/x-python",
   "name": "python",
   "nbconvert_exporter": "python",
   "pygments_lexer": "ipython3",
   "version": "3.9.12"
  }
 },
 "nbformat": 4,
 "nbformat_minor": 2
}
